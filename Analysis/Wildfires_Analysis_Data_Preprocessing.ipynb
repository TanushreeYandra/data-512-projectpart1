{
 "cells": [
  {
   "cell_type": "markdown",
   "id": "cfcdad69",
   "metadata": {},
   "source": [
    "# DATA 512 - Project Part 1: Common Analysis"
   ]
  },
  {
   "cell_type": "markdown",
   "id": "806087dd",
   "metadata": {},
   "source": [
    "## Wildfires Analysis - Data Preprocessing"
   ]
  },
  {
   "cell_type": "markdown",
   "id": "87c8452d",
   "metadata": {},
   "source": [
    "### Tanushree Yandra, University of Washington, Seattle"
   ]
  },
  {
   "cell_type": "markdown",
   "id": "4a480614",
   "metadata": {},
   "source": [
    "More and more frequently, summers in the western US have been characterized by wildfires with smoke billowing across multiple western states. There are many proposed causes for this: climate change, US Forestry policy, growing awareness, just to name a few. Regardless of the cause, the impact of wildland fires is widespread. There is a growing body of work pointing to the negative impacts of smoke on health, tourism, property, and other aspects of society. This project analyzes wildfire impacts on the city of Twin Falls, Idaho in the US. The end goal is to be able to inform policy makers, city managers, city councils, or other civic institutions, to make an informed plan for how they could or whether they should make plans to mitigate future impacts from wildfires.\n",
    "\n",
    "Wildland fires within 1250 miles of Twin Falls, Idaho are analyzed for the last 60 years (1963-2020). A smoke estimate is then created to estimate the wildfire smoke impact which is later modeled to make predictions for the next 30 years (until 2049).\n",
    "\n",
    "This section of the analysis preprocesses the [Wildland Fires Data]() generated from the [Wildfire Analysis - Data Retrieval notebook](https://github.com/TanushreeYandra/data-512-projectpart1/blob/main/Analysis/Wildfires_Analysis_Data_Retrieval.ipynb). We will be analyzing the various columns present in the dataset and make relevant assumptions to remove any unnecessary columns."
   ]
  },
  {
   "cell_type": "markdown",
   "id": "db983cba",
   "metadata": {},
   "source": [
    "### Step 1: Preliminaries"
   ]
  },
  {
   "cell_type": "markdown",
   "id": "c5e1644c",
   "metadata": {},
   "source": [
    "First, we start by importing required modules and packages."
   ]
  },
  {
   "cell_type": "code",
   "execution_count": 1,
   "id": "5a64b55e",
   "metadata": {},
   "outputs": [],
   "source": [
    "# These are standard python modules\n",
    "import pandas as pd\n",
    "import json\n",
    "import warnings"
   ]
  },
  {
   "cell_type": "code",
   "execution_count": 2,
   "id": "d73c2cfc",
   "metadata": {},
   "outputs": [],
   "source": [
    "# Suppress the warning statements\n",
    "warnings.filterwarnings(\"ignore\")"
   ]
  },
  {
   "cell_type": "markdown",
   "id": "a29cc8a0",
   "metadata": {},
   "source": [
    "### Step 2: Analyzing the Wildland Fires Dataset"
   ]
  },
  {
   "cell_type": "markdown",
   "id": "2909d9d2",
   "metadata": {},
   "source": [
    "Next, we load the JSON data into a JSON object. The JSON object has multiple 'features' where each 'feature' represents one wildfire incident. All the features are nested dictionaries and have two primary key-value pairs - attributes and geometry. The key-value pair 'geometry' was used in the previous step of data retrieval for accessing the coordinates of the fire rings and computing the geodetic distance from Twin Falls, Idaho. For this step of the analysis, we will be focusing on the key-value pair of 'attributes' of the wildfires data. 'attributes' is once again a dictionary with multiple key-value pairs. Some of the keys for example, are, OBJECTID, Assigned_Fire_Type, etc."
   ]
  },
  {
   "cell_type": "code",
   "execution_count": 3,
   "id": "4c258c06",
   "metadata": {},
   "outputs": [],
   "source": [
    "# Open the JSON file in a JSON object\n",
    "with open('final_wildfire_data.json', 'r') as json_file:\n",
    "    final_wildfire_data = json.load(json_file)"
   ]
  },
  {
   "cell_type": "code",
   "execution_count": 4,
   "id": "b082c7ed",
   "metadata": {},
   "outputs": [],
   "source": [
    "# Convert the JSON object to a dataframe\n",
    "# We are only considering the nested dictionary of the key 'attributes'\n",
    "wf_df = pd.DataFrame([{k: v for k, v in data['attributes'].items()} for data in final_wildfire_data])"
   ]
  },
  {
   "cell_type": "code",
   "execution_count": 5,
   "id": "73c84a30",
   "metadata": {},
   "outputs": [
    {
     "data": {
      "text/html": [
       "<div>\n",
       "<style scoped>\n",
       "    .dataframe tbody tr th:only-of-type {\n",
       "        vertical-align: middle;\n",
       "    }\n",
       "\n",
       "    .dataframe tbody tr th {\n",
       "        vertical-align: top;\n",
       "    }\n",
       "\n",
       "    .dataframe thead th {\n",
       "        text-align: right;\n",
       "    }\n",
       "</style>\n",
       "<table border=\"1\" class=\"dataframe\">\n",
       "  <thead>\n",
       "    <tr style=\"text-align: right;\">\n",
       "      <th></th>\n",
       "      <th>OBJECTID</th>\n",
       "      <th>USGS_Assigned_ID</th>\n",
       "      <th>Assigned_Fire_Type</th>\n",
       "      <th>Fire_Year</th>\n",
       "      <th>Fire_Polygon_Tier</th>\n",
       "      <th>Fire_Attribute_Tiers</th>\n",
       "      <th>GIS_Acres</th>\n",
       "      <th>GIS_Hectares</th>\n",
       "      <th>Source_Datasets</th>\n",
       "      <th>Listed_Fire_Types</th>\n",
       "      <th>...</th>\n",
       "      <th>Wildfire_Notice</th>\n",
       "      <th>Prescribed_Burn_Notice</th>\n",
       "      <th>Wildfire_and_Rx_Flag</th>\n",
       "      <th>Overlap_Within_1_or_2_Flag</th>\n",
       "      <th>Circleness_Scale</th>\n",
       "      <th>Circle_Flag</th>\n",
       "      <th>Exclude_From_Summary_Rasters</th>\n",
       "      <th>Shape_Length</th>\n",
       "      <th>Shape_Area</th>\n",
       "      <th>Distance</th>\n",
       "    </tr>\n",
       "  </thead>\n",
       "  <tbody>\n",
       "    <tr>\n",
       "      <th>0</th>\n",
       "      <td>14299</td>\n",
       "      <td>14299</td>\n",
       "      <td>Wildfire</td>\n",
       "      <td>1963</td>\n",
       "      <td>1</td>\n",
       "      <td>1 (1), 3 (3)</td>\n",
       "      <td>40992.458271</td>\n",
       "      <td>16589.059302</td>\n",
       "      <td>Comb_National_NIFC_Interagency_Fire_Perimeter_...</td>\n",
       "      <td>Wildfire (1), Likely Wildfire (3)</td>\n",
       "      <td>...</td>\n",
       "      <td>Wildfire mapping prior to 1984 was inconsisten...</td>\n",
       "      <td>Prescribed fire data in this dataset represent...</td>\n",
       "      <td>None</td>\n",
       "      <td>None</td>\n",
       "      <td>0.385355</td>\n",
       "      <td>NaN</td>\n",
       "      <td>No</td>\n",
       "      <td>73550.428118</td>\n",
       "      <td>1.658906e+08</td>\n",
       "      <td>160.949890</td>\n",
       "    </tr>\n",
       "    <tr>\n",
       "      <th>1</th>\n",
       "      <td>14300</td>\n",
       "      <td>14300</td>\n",
       "      <td>Wildfire</td>\n",
       "      <td>1963</td>\n",
       "      <td>1</td>\n",
       "      <td>1 (1), 3 (3)</td>\n",
       "      <td>25757.090203</td>\n",
       "      <td>10423.524591</td>\n",
       "      <td>Comb_National_NIFC_Interagency_Fire_Perimeter_...</td>\n",
       "      <td>Wildfire (2), Likely Wildfire (2)</td>\n",
       "      <td>...</td>\n",
       "      <td>Wildfire mapping prior to 1984 was inconsisten...</td>\n",
       "      <td>Prescribed fire data in this dataset represent...</td>\n",
       "      <td>None</td>\n",
       "      <td>None</td>\n",
       "      <td>0.364815</td>\n",
       "      <td>NaN</td>\n",
       "      <td>No</td>\n",
       "      <td>59920.576713</td>\n",
       "      <td>1.042352e+08</td>\n",
       "      <td>187.994096</td>\n",
       "    </tr>\n",
       "    <tr>\n",
       "      <th>2</th>\n",
       "      <td>14301</td>\n",
       "      <td>14301</td>\n",
       "      <td>Wildfire</td>\n",
       "      <td>1963</td>\n",
       "      <td>1</td>\n",
       "      <td>1 (5), 3 (15), 5 (1)</td>\n",
       "      <td>45527.210986</td>\n",
       "      <td>18424.208617</td>\n",
       "      <td>Comb_National_NIFC_Interagency_Fire_Perimeter_...</td>\n",
       "      <td>Wildfire (6), Likely Wildfire (15)</td>\n",
       "      <td>...</td>\n",
       "      <td>Wildfire mapping prior to 1984 was inconsisten...</td>\n",
       "      <td>Prescribed fire data in this dataset represent...</td>\n",
       "      <td>None</td>\n",
       "      <td>None</td>\n",
       "      <td>0.320927</td>\n",
       "      <td>NaN</td>\n",
       "      <td>No</td>\n",
       "      <td>84936.827810</td>\n",
       "      <td>1.842421e+08</td>\n",
       "      <td>160.517096</td>\n",
       "    </tr>\n",
       "    <tr>\n",
       "      <th>3</th>\n",
       "      <td>14302</td>\n",
       "      <td>14302</td>\n",
       "      <td>Wildfire</td>\n",
       "      <td>1963</td>\n",
       "      <td>1</td>\n",
       "      <td>1 (1), 3 (3), 5 (1)</td>\n",
       "      <td>10395.010334</td>\n",
       "      <td>4206.711433</td>\n",
       "      <td>Comb_National_NIFC_Interagency_Fire_Perimeter_...</td>\n",
       "      <td>Wildfire (2), Likely Wildfire (3)</td>\n",
       "      <td>...</td>\n",
       "      <td>Wildfire mapping prior to 1984 was inconsisten...</td>\n",
       "      <td>Prescribed fire data in this dataset represent...</td>\n",
       "      <td>None</td>\n",
       "      <td>None</td>\n",
       "      <td>0.428936</td>\n",
       "      <td>NaN</td>\n",
       "      <td>No</td>\n",
       "      <td>35105.903602</td>\n",
       "      <td>4.206711e+07</td>\n",
       "      <td>80.011735</td>\n",
       "    </tr>\n",
       "    <tr>\n",
       "      <th>4</th>\n",
       "      <td>14303</td>\n",
       "      <td>14303</td>\n",
       "      <td>Wildfire</td>\n",
       "      <td>1963</td>\n",
       "      <td>1</td>\n",
       "      <td>1 (1), 3 (3)</td>\n",
       "      <td>9983.605738</td>\n",
       "      <td>4040.221900</td>\n",
       "      <td>Comb_National_NIFC_Interagency_Fire_Perimeter_...</td>\n",
       "      <td>Wildfire (1), Likely Wildfire (3)</td>\n",
       "      <td>...</td>\n",
       "      <td>Wildfire mapping prior to 1984 was inconsisten...</td>\n",
       "      <td>Prescribed fire data in this dataset represent...</td>\n",
       "      <td>None</td>\n",
       "      <td>None</td>\n",
       "      <td>0.703178</td>\n",
       "      <td>NaN</td>\n",
       "      <td>No</td>\n",
       "      <td>26870.456126</td>\n",
       "      <td>4.040222e+07</td>\n",
       "      <td>144.899050</td>\n",
       "    </tr>\n",
       "  </tbody>\n",
       "</table>\n",
       "<p>5 rows × 31 columns</p>\n",
       "</div>"
      ],
      "text/plain": [
       "   OBJECTID  USGS_Assigned_ID Assigned_Fire_Type  Fire_Year  \\\n",
       "0     14299             14299           Wildfire       1963   \n",
       "1     14300             14300           Wildfire       1963   \n",
       "2     14301             14301           Wildfire       1963   \n",
       "3     14302             14302           Wildfire       1963   \n",
       "4     14303             14303           Wildfire       1963   \n",
       "\n",
       "   Fire_Polygon_Tier  Fire_Attribute_Tiers     GIS_Acres  GIS_Hectares  \\\n",
       "0                  1          1 (1), 3 (3)  40992.458271  16589.059302   \n",
       "1                  1          1 (1), 3 (3)  25757.090203  10423.524591   \n",
       "2                  1  1 (5), 3 (15), 5 (1)  45527.210986  18424.208617   \n",
       "3                  1   1 (1), 3 (3), 5 (1)  10395.010334   4206.711433   \n",
       "4                  1          1 (1), 3 (3)   9983.605738   4040.221900   \n",
       "\n",
       "                                     Source_Datasets  \\\n",
       "0  Comb_National_NIFC_Interagency_Fire_Perimeter_...   \n",
       "1  Comb_National_NIFC_Interagency_Fire_Perimeter_...   \n",
       "2  Comb_National_NIFC_Interagency_Fire_Perimeter_...   \n",
       "3  Comb_National_NIFC_Interagency_Fire_Perimeter_...   \n",
       "4  Comb_National_NIFC_Interagency_Fire_Perimeter_...   \n",
       "\n",
       "                    Listed_Fire_Types  ...  \\\n",
       "0   Wildfire (1), Likely Wildfire (3)  ...   \n",
       "1   Wildfire (2), Likely Wildfire (2)  ...   \n",
       "2  Wildfire (6), Likely Wildfire (15)  ...   \n",
       "3   Wildfire (2), Likely Wildfire (3)  ...   \n",
       "4   Wildfire (1), Likely Wildfire (3)  ...   \n",
       "\n",
       "                                     Wildfire_Notice  \\\n",
       "0  Wildfire mapping prior to 1984 was inconsisten...   \n",
       "1  Wildfire mapping prior to 1984 was inconsisten...   \n",
       "2  Wildfire mapping prior to 1984 was inconsisten...   \n",
       "3  Wildfire mapping prior to 1984 was inconsisten...   \n",
       "4  Wildfire mapping prior to 1984 was inconsisten...   \n",
       "\n",
       "                              Prescribed_Burn_Notice Wildfire_and_Rx_Flag  \\\n",
       "0  Prescribed fire data in this dataset represent...                 None   \n",
       "1  Prescribed fire data in this dataset represent...                 None   \n",
       "2  Prescribed fire data in this dataset represent...                 None   \n",
       "3  Prescribed fire data in this dataset represent...                 None   \n",
       "4  Prescribed fire data in this dataset represent...                 None   \n",
       "\n",
       "  Overlap_Within_1_or_2_Flag Circleness_Scale Circle_Flag  \\\n",
       "0                       None         0.385355         NaN   \n",
       "1                       None         0.364815         NaN   \n",
       "2                       None         0.320927         NaN   \n",
       "3                       None         0.428936         NaN   \n",
       "4                       None         0.703178         NaN   \n",
       "\n",
       "  Exclude_From_Summary_Rasters  Shape_Length    Shape_Area    Distance  \n",
       "0                           No  73550.428118  1.658906e+08  160.949890  \n",
       "1                           No  59920.576713  1.042352e+08  187.994096  \n",
       "2                           No  84936.827810  1.842421e+08  160.517096  \n",
       "3                           No  35105.903602  4.206711e+07   80.011735  \n",
       "4                           No  26870.456126  4.040222e+07  144.899050  \n",
       "\n",
       "[5 rows x 31 columns]"
      ]
     },
     "execution_count": 5,
     "metadata": {},
     "output_type": "execute_result"
    }
   ],
   "source": [
    "# Look at the top of the dataframe\n",
    "wf_df.head()"
   ]
  },
  {
   "cell_type": "code",
   "execution_count": 6,
   "id": "8b82858a",
   "metadata": {},
   "outputs": [
    {
     "data": {
      "text/plain": [
       "(84319, 31)"
      ]
     },
     "execution_count": 6,
     "metadata": {},
     "output_type": "execute_result"
    }
   ],
   "source": [
    "# Look at the shape of the dataframe\n",
    "wf_df.shape"
   ]
  },
  {
   "cell_type": "markdown",
   "id": "b754e67b",
   "metadata": {},
   "source": [
    "Thus, our dataset has 84319 wildfire incidents with 31 features before preprocessing. Now we look at the various columns present in the data to identify those columns that will be useful for further modeling and analysis."
   ]
  },
  {
   "cell_type": "code",
   "execution_count": 7,
   "id": "5f13d9ab",
   "metadata": {},
   "outputs": [
    {
     "data": {
      "text/plain": [
       "Index(['OBJECTID', 'USGS_Assigned_ID', 'Assigned_Fire_Type', 'Fire_Year',\n",
       "       'Fire_Polygon_Tier', 'Fire_Attribute_Tiers', 'GIS_Acres',\n",
       "       'GIS_Hectares', 'Source_Datasets', 'Listed_Fire_Types',\n",
       "       'Listed_Fire_Names', 'Listed_Fire_Codes', 'Listed_Fire_IDs',\n",
       "       'Listed_Fire_IRWIN_IDs', 'Listed_Fire_Dates', 'Listed_Fire_Causes',\n",
       "       'Listed_Fire_Cause_Class', 'Listed_Rx_Reported_Acres',\n",
       "       'Listed_Map_Digitize_Methods', 'Listed_Notes', 'Processing_Notes',\n",
       "       'Wildfire_Notice', 'Prescribed_Burn_Notice', 'Wildfire_and_Rx_Flag',\n",
       "       'Overlap_Within_1_or_2_Flag', 'Circleness_Scale', 'Circle_Flag',\n",
       "       'Exclude_From_Summary_Rasters', 'Shape_Length', 'Shape_Area',\n",
       "       'Distance'],\n",
       "      dtype='object')"
      ]
     },
     "execution_count": 7,
     "metadata": {},
     "output_type": "execute_result"
    }
   ],
   "source": [
    "# Look at all the column names of the dataframe\n",
    "wf_df.columns"
   ]
  },
  {
   "cell_type": "markdown",
   "id": "8525a8ab",
   "metadata": {},
   "source": [
    "Looking at the column names above, several columns can be identified that are complex string values which will not add any value to our analysis and modeling. Such columns are dropped in the next step."
   ]
  },
  {
   "cell_type": "markdown",
   "id": "0d2bc088",
   "metadata": {},
   "source": [
    "### Step 3: Dropping Columns that are not Useful for the Analysis"
   ]
  },
  {
   "cell_type": "markdown",
   "id": "102a1a80",
   "metadata": {},
   "source": [
    "In this step, several columns not useful for the analysis are identified and dropped. The explanation for dropping each of these columns is provided below,\n",
    "\n",
    "**OBJECTID**: It is a unique identification for the fire polygon and its attributes. The dataset also has another column named 'USGS_Assigned_ID' which is also a unique identification that provides further consistency. Thus, the OBJECTID column is dropped.\n",
    "\n",
    "**Fire_Polygon_Tier**: This refers to the tier from which the fire polygon is generated. One or more polygons within the tier can be combined to create the fire polygon. This feature although numerical, did not feel like it will add any value to the creation of the smoke estimate and its modeling. Thus, it is dropped.\n",
    "\n",
    "**Fire_Attribute_Tiers**: The dataset being used is created by combining 40 different data sources. This feature has a list of Polygon Tiers consolidated from all the data sources for each fire. This is irrelevant to the analysis at hand, and is hence dropped.\n",
    "\n",
    "**GIS_Hectares**: This encapsulates the hectares of the fire polygon calculated by using the Calculate Geometry tool in ArcGIS Pro. Since there is another column representing the same value in the units of acres, this column is dropped.\n",
    "\n",
    "**Source_Datasets**: This column contains all the original source datasets that contributed to either the polygon or the attributes. This is irrelevant for our analysis.\n",
    "\n",
    "**Listed_Fire_Types**: This includes each fire type listed in the fires from the merged dataset where the number of features that contributed to a specific fire type are in parentheses after the fire type. Since we have kept the 'Fire_Type' column in our dataset for now, this column is not needed.\n",
    "\n",
    "**Listed_Fire_Codes**: This includes each fire code listed in the fires from the merged dataset. Any feature that has a 'list' of values from the merged dataset are ignored.\n",
    "\n",
    "**Listed_Fire_IDs**: This includes each fire ID listed in the fires from the merged dataset. Since it is a 'list', it is dropped.\n",
    "\n",
    "**Listed_Fire_IRWIN_IDs**: This includes each fire IRWIN ID listed in the fires from the merged dataset. This is dropped since it is a 'list'.\n",
    "\n",
    "**Listed_Fire_Dates**: This includes each fire date listed in the fires from the merged dataset. Since we are considering wildfires on a yearly basis, the fire dates are not important for our analysis.\n",
    "\n",
    "**Listed_Fire_Causes**: This includes each fire cause listed in the fires from the merged dataset. It is a 'list' and is hence dropped.\n",
    "\n",
    "**Listed_Fire_Cause_Class**: This includes each fire cause class listed in the fires from the merged dataset. While fire cause may seem important for analysis, it cannot be quantified in any manner. Thus, it is dropped.\n",
    "\n",
    "**Listed_Rx_Reported_Acres**: This contains each prescribed fire's reported acres listed in the fires from the merged dataset. For the area of the fire, we are relying on the column 'GIS_Acres' and hence, this column is dropped.\n",
    "\n",
    "**Listed_Map_Digitize_Methods**: This includes each fire digitization method listed in the fires from the merged dataset. This does not add any value to our analysis and is thus dropped.\n",
    "\n",
    "**Listed_Notes**: This contains additional notes associated with each fire from the merged dataset. Notes are irrelevant to our study.\n",
    "\n",
    "**Processing_Notes**: This indicates that the attribute data was altered during the processing and a new attribute was added. It will also explain the rationale for the change. These notes are not relevant to us.\n",
    "\n",
    "**Wildfire_Notice**: It is a notice present in every field that indicates the quality of the wildfire data in the dataset. This is not needed.\n",
    "\n",
    "**Prescribed_Burn_Notice**: It is a notice present in every field that indicates the quality of the prescribed burn data in the dataset which is not required."
   ]
  },
  {
   "cell_type": "code",
   "execution_count": 8,
   "id": "7b28e459",
   "metadata": {},
   "outputs": [],
   "source": [
    "# Drop all irrelevant columns\n",
    "wf_df = wf_df.drop(['OBJECTID', 'Fire_Polygon_Tier', 'Fire_Attribute_Tiers', 'GIS_Hectares',\n",
    "                    'Source_Datasets', 'Listed_Fire_Types', 'Listed_Fire_Codes', 'Listed_Fire_IDs',\n",
    "                    'Listed_Fire_IRWIN_IDs', 'Listed_Fire_Dates', 'Listed_Fire_Causes', 'Listed_Fire_Cause_Class',\n",
    "                    'Listed_Rx_Reported_Acres', 'Listed_Map_Digitize_Methods', 'Listed_Notes', 'Processing_Notes',\n",
    "                    'Wildfire_Notice', 'Prescribed_Burn_Notice'], axis=1)"
   ]
  },
  {
   "cell_type": "code",
   "execution_count": 9,
   "id": "b39ef1bb",
   "metadata": {},
   "outputs": [
    {
     "data": {
      "text/html": [
       "<div>\n",
       "<style scoped>\n",
       "    .dataframe tbody tr th:only-of-type {\n",
       "        vertical-align: middle;\n",
       "    }\n",
       "\n",
       "    .dataframe tbody tr th {\n",
       "        vertical-align: top;\n",
       "    }\n",
       "\n",
       "    .dataframe thead th {\n",
       "        text-align: right;\n",
       "    }\n",
       "</style>\n",
       "<table border=\"1\" class=\"dataframe\">\n",
       "  <thead>\n",
       "    <tr style=\"text-align: right;\">\n",
       "      <th></th>\n",
       "      <th>USGS_Assigned_ID</th>\n",
       "      <th>Assigned_Fire_Type</th>\n",
       "      <th>Fire_Year</th>\n",
       "      <th>GIS_Acres</th>\n",
       "      <th>Listed_Fire_Names</th>\n",
       "      <th>Wildfire_and_Rx_Flag</th>\n",
       "      <th>Overlap_Within_1_or_2_Flag</th>\n",
       "      <th>Circleness_Scale</th>\n",
       "      <th>Circle_Flag</th>\n",
       "      <th>Exclude_From_Summary_Rasters</th>\n",
       "      <th>Shape_Length</th>\n",
       "      <th>Shape_Area</th>\n",
       "      <th>Distance</th>\n",
       "    </tr>\n",
       "  </thead>\n",
       "  <tbody>\n",
       "    <tr>\n",
       "      <th>0</th>\n",
       "      <td>14299</td>\n",
       "      <td>Wildfire</td>\n",
       "      <td>1963</td>\n",
       "      <td>40992.458271</td>\n",
       "      <td>RATTLESNAKE (4)</td>\n",
       "      <td>None</td>\n",
       "      <td>None</td>\n",
       "      <td>0.385355</td>\n",
       "      <td>NaN</td>\n",
       "      <td>No</td>\n",
       "      <td>73550.428118</td>\n",
       "      <td>1.658906e+08</td>\n",
       "      <td>160.949890</td>\n",
       "    </tr>\n",
       "    <tr>\n",
       "      <th>1</th>\n",
       "      <td>14300</td>\n",
       "      <td>Wildfire</td>\n",
       "      <td>1963</td>\n",
       "      <td>25757.090203</td>\n",
       "      <td>McChord Butte (2), No Fire Name Provided (1), ...</td>\n",
       "      <td>None</td>\n",
       "      <td>None</td>\n",
       "      <td>0.364815</td>\n",
       "      <td>NaN</td>\n",
       "      <td>No</td>\n",
       "      <td>59920.576713</td>\n",
       "      <td>1.042352e+08</td>\n",
       "      <td>187.994096</td>\n",
       "    </tr>\n",
       "    <tr>\n",
       "      <th>2</th>\n",
       "      <td>14301</td>\n",
       "      <td>Wildfire</td>\n",
       "      <td>1963</td>\n",
       "      <td>45527.210986</td>\n",
       "      <td>WILLOW CREEK (16), EAST CRANE CREEK (4), Crane...</td>\n",
       "      <td>None</td>\n",
       "      <td>None</td>\n",
       "      <td>0.320927</td>\n",
       "      <td>NaN</td>\n",
       "      <td>No</td>\n",
       "      <td>84936.827810</td>\n",
       "      <td>1.842421e+08</td>\n",
       "      <td>160.517096</td>\n",
       "    </tr>\n",
       "    <tr>\n",
       "      <th>3</th>\n",
       "      <td>14302</td>\n",
       "      <td>Wildfire</td>\n",
       "      <td>1963</td>\n",
       "      <td>10395.010334</td>\n",
       "      <td>SOUTH CANYON CREEK (4), No Fire Name Provided (1)</td>\n",
       "      <td>None</td>\n",
       "      <td>None</td>\n",
       "      <td>0.428936</td>\n",
       "      <td>NaN</td>\n",
       "      <td>No</td>\n",
       "      <td>35105.903602</td>\n",
       "      <td>4.206711e+07</td>\n",
       "      <td>80.011735</td>\n",
       "    </tr>\n",
       "    <tr>\n",
       "      <th>4</th>\n",
       "      <td>14303</td>\n",
       "      <td>Wildfire</td>\n",
       "      <td>1963</td>\n",
       "      <td>9983.605738</td>\n",
       "      <td>WEBB CREEK (4)</td>\n",
       "      <td>None</td>\n",
       "      <td>None</td>\n",
       "      <td>0.703178</td>\n",
       "      <td>NaN</td>\n",
       "      <td>No</td>\n",
       "      <td>26870.456126</td>\n",
       "      <td>4.040222e+07</td>\n",
       "      <td>144.899050</td>\n",
       "    </tr>\n",
       "  </tbody>\n",
       "</table>\n",
       "</div>"
      ],
      "text/plain": [
       "   USGS_Assigned_ID Assigned_Fire_Type  Fire_Year     GIS_Acres  \\\n",
       "0             14299           Wildfire       1963  40992.458271   \n",
       "1             14300           Wildfire       1963  25757.090203   \n",
       "2             14301           Wildfire       1963  45527.210986   \n",
       "3             14302           Wildfire       1963  10395.010334   \n",
       "4             14303           Wildfire       1963   9983.605738   \n",
       "\n",
       "                                   Listed_Fire_Names Wildfire_and_Rx_Flag  \\\n",
       "0                                    RATTLESNAKE (4)                 None   \n",
       "1  McChord Butte (2), No Fire Name Provided (1), ...                 None   \n",
       "2  WILLOW CREEK (16), EAST CRANE CREEK (4), Crane...                 None   \n",
       "3  SOUTH CANYON CREEK (4), No Fire Name Provided (1)                 None   \n",
       "4                                     WEBB CREEK (4)                 None   \n",
       "\n",
       "  Overlap_Within_1_or_2_Flag  Circleness_Scale  Circle_Flag  \\\n",
       "0                       None          0.385355          NaN   \n",
       "1                       None          0.364815          NaN   \n",
       "2                       None          0.320927          NaN   \n",
       "3                       None          0.428936          NaN   \n",
       "4                       None          0.703178          NaN   \n",
       "\n",
       "  Exclude_From_Summary_Rasters  Shape_Length    Shape_Area    Distance  \n",
       "0                           No  73550.428118  1.658906e+08  160.949890  \n",
       "1                           No  59920.576713  1.042352e+08  187.994096  \n",
       "2                           No  84936.827810  1.842421e+08  160.517096  \n",
       "3                           No  35105.903602  4.206711e+07   80.011735  \n",
       "4                           No  26870.456126  4.040222e+07  144.899050  "
      ]
     },
     "execution_count": 9,
     "metadata": {},
     "output_type": "execute_result"
    }
   ],
   "source": [
    "# Look at the top of the dataframe\n",
    "wf_df.head()"
   ]
  },
  {
   "cell_type": "code",
   "execution_count": 10,
   "id": "39df0871",
   "metadata": {},
   "outputs": [
    {
     "data": {
      "text/plain": [
       "(84319, 13)"
      ]
     },
     "execution_count": 10,
     "metadata": {},
     "output_type": "execute_result"
    }
   ],
   "source": [
    "# Look at the dataframe's shape\n",
    "wf_df.shape"
   ]
  },
  {
   "cell_type": "markdown",
   "id": "fa8a688c",
   "metadata": {},
   "source": [
    "Our dataframe looks as follows (above) after dropping all the columns. The number of columns now came down to 13 from the original 31 columns."
   ]
  },
  {
   "cell_type": "markdown",
   "id": "349cfbb9",
   "metadata": {},
   "source": [
    "### Step 4: Looking at the 'Assigned_Fire_Type' and the 'Wildfire_and_Rx_Flag' columns"
   ]
  },
  {
   "cell_type": "markdown",
   "id": "d2c70593",
   "metadata": {},
   "source": [
    "The 'Assigned_Fire_Type' column is one of the five types - Wildfire, Likely Wildfire, Unknown - Likely Wildfire, Prescribed Fire, Unknown - Likely Prescribed Fire. The key difference between Wildfires and Prescribed fires is the intent. A prescribed fire is a planned fire intentionally ignited by park managers to meet management objectives. A wildfire on the other hand, is an unplanned fire caused by lightning or other natural causes, by accidental (or arson-caused) human ignitions, or by an escaped prescribed fire. While prescribed fires are intentional and usually in control, they still DO contribute to air pollution. For this analysis, it is assumed that prescirbed fires and wildfires contribute to the same amount of pollution for a given land with same area."
   ]
  },
  {
   "cell_type": "code",
   "execution_count": 11,
   "id": "fdde9943",
   "metadata": {},
   "outputs": [
    {
     "data": {
      "text/plain": [
       "array(['Wildfire', 'Unknown - Likely Wildfire', 'Prescribed Fire',\n",
       "       'Likely Wildfire', 'Unknown - Likely Prescribed Fire'],\n",
       "      dtype=object)"
      ]
     },
     "execution_count": 11,
     "metadata": {},
     "output_type": "execute_result"
    }
   ],
   "source": [
    "# Unique values of the column 'Assigned_Fire_Type'\n",
    "wf_df['Assigned_Fire_Type'].unique()"
   ]
  },
  {
   "cell_type": "markdown",
   "id": "3cac7c12",
   "metadata": {},
   "source": [
    "The 'Wildfire_and_Rx_Flag' column is a text flag field indicating that the attributes from the various data sources flagged a fire as both a wildfire and a prescribed fire. This could indicate an error in assigning the fire type, a misassignment of the fire type, or that there were actually two fires that occurred in this area in the same year, one a wildfire and one a prescribed burn. \n",
    "\n",
    "Since we are treating both wildfires and prescribed fires in the same manner, this field can be ignored."
   ]
  },
  {
   "cell_type": "code",
   "execution_count": 12,
   "id": "6558c893",
   "metadata": {},
   "outputs": [],
   "source": [
    "# Drop 'Wildfire_and_Rx_Flag' column\n",
    "wf_df = wf_df.drop(['Wildfire_and_Rx_Flag'], axis=1)"
   ]
  },
  {
   "cell_type": "code",
   "execution_count": 13,
   "id": "32678684",
   "metadata": {},
   "outputs": [
    {
     "data": {
      "text/html": [
       "<div>\n",
       "<style scoped>\n",
       "    .dataframe tbody tr th:only-of-type {\n",
       "        vertical-align: middle;\n",
       "    }\n",
       "\n",
       "    .dataframe tbody tr th {\n",
       "        vertical-align: top;\n",
       "    }\n",
       "\n",
       "    .dataframe thead th {\n",
       "        text-align: right;\n",
       "    }\n",
       "</style>\n",
       "<table border=\"1\" class=\"dataframe\">\n",
       "  <thead>\n",
       "    <tr style=\"text-align: right;\">\n",
       "      <th></th>\n",
       "      <th>USGS_Assigned_ID</th>\n",
       "      <th>Assigned_Fire_Type</th>\n",
       "      <th>Fire_Year</th>\n",
       "      <th>GIS_Acres</th>\n",
       "      <th>Listed_Fire_Names</th>\n",
       "      <th>Overlap_Within_1_or_2_Flag</th>\n",
       "      <th>Circleness_Scale</th>\n",
       "      <th>Circle_Flag</th>\n",
       "      <th>Exclude_From_Summary_Rasters</th>\n",
       "      <th>Shape_Length</th>\n",
       "      <th>Shape_Area</th>\n",
       "      <th>Distance</th>\n",
       "    </tr>\n",
       "  </thead>\n",
       "  <tbody>\n",
       "    <tr>\n",
       "      <th>0</th>\n",
       "      <td>14299</td>\n",
       "      <td>Wildfire</td>\n",
       "      <td>1963</td>\n",
       "      <td>40992.458271</td>\n",
       "      <td>RATTLESNAKE (4)</td>\n",
       "      <td>None</td>\n",
       "      <td>0.385355</td>\n",
       "      <td>NaN</td>\n",
       "      <td>No</td>\n",
       "      <td>73550.428118</td>\n",
       "      <td>1.658906e+08</td>\n",
       "      <td>160.949890</td>\n",
       "    </tr>\n",
       "    <tr>\n",
       "      <th>1</th>\n",
       "      <td>14300</td>\n",
       "      <td>Wildfire</td>\n",
       "      <td>1963</td>\n",
       "      <td>25757.090203</td>\n",
       "      <td>McChord Butte (2), No Fire Name Provided (1), ...</td>\n",
       "      <td>None</td>\n",
       "      <td>0.364815</td>\n",
       "      <td>NaN</td>\n",
       "      <td>No</td>\n",
       "      <td>59920.576713</td>\n",
       "      <td>1.042352e+08</td>\n",
       "      <td>187.994096</td>\n",
       "    </tr>\n",
       "    <tr>\n",
       "      <th>2</th>\n",
       "      <td>14301</td>\n",
       "      <td>Wildfire</td>\n",
       "      <td>1963</td>\n",
       "      <td>45527.210986</td>\n",
       "      <td>WILLOW CREEK (16), EAST CRANE CREEK (4), Crane...</td>\n",
       "      <td>None</td>\n",
       "      <td>0.320927</td>\n",
       "      <td>NaN</td>\n",
       "      <td>No</td>\n",
       "      <td>84936.827810</td>\n",
       "      <td>1.842421e+08</td>\n",
       "      <td>160.517096</td>\n",
       "    </tr>\n",
       "    <tr>\n",
       "      <th>3</th>\n",
       "      <td>14302</td>\n",
       "      <td>Wildfire</td>\n",
       "      <td>1963</td>\n",
       "      <td>10395.010334</td>\n",
       "      <td>SOUTH CANYON CREEK (4), No Fire Name Provided (1)</td>\n",
       "      <td>None</td>\n",
       "      <td>0.428936</td>\n",
       "      <td>NaN</td>\n",
       "      <td>No</td>\n",
       "      <td>35105.903602</td>\n",
       "      <td>4.206711e+07</td>\n",
       "      <td>80.011735</td>\n",
       "    </tr>\n",
       "    <tr>\n",
       "      <th>4</th>\n",
       "      <td>14303</td>\n",
       "      <td>Wildfire</td>\n",
       "      <td>1963</td>\n",
       "      <td>9983.605738</td>\n",
       "      <td>WEBB CREEK (4)</td>\n",
       "      <td>None</td>\n",
       "      <td>0.703178</td>\n",
       "      <td>NaN</td>\n",
       "      <td>No</td>\n",
       "      <td>26870.456126</td>\n",
       "      <td>4.040222e+07</td>\n",
       "      <td>144.899050</td>\n",
       "    </tr>\n",
       "  </tbody>\n",
       "</table>\n",
       "</div>"
      ],
      "text/plain": [
       "   USGS_Assigned_ID Assigned_Fire_Type  Fire_Year     GIS_Acres  \\\n",
       "0             14299           Wildfire       1963  40992.458271   \n",
       "1             14300           Wildfire       1963  25757.090203   \n",
       "2             14301           Wildfire       1963  45527.210986   \n",
       "3             14302           Wildfire       1963  10395.010334   \n",
       "4             14303           Wildfire       1963   9983.605738   \n",
       "\n",
       "                                   Listed_Fire_Names  \\\n",
       "0                                    RATTLESNAKE (4)   \n",
       "1  McChord Butte (2), No Fire Name Provided (1), ...   \n",
       "2  WILLOW CREEK (16), EAST CRANE CREEK (4), Crane...   \n",
       "3  SOUTH CANYON CREEK (4), No Fire Name Provided (1)   \n",
       "4                                     WEBB CREEK (4)   \n",
       "\n",
       "  Overlap_Within_1_or_2_Flag  Circleness_Scale  Circle_Flag  \\\n",
       "0                       None          0.385355          NaN   \n",
       "1                       None          0.364815          NaN   \n",
       "2                       None          0.320927          NaN   \n",
       "3                       None          0.428936          NaN   \n",
       "4                       None          0.703178          NaN   \n",
       "\n",
       "  Exclude_From_Summary_Rasters  Shape_Length    Shape_Area    Distance  \n",
       "0                           No  73550.428118  1.658906e+08  160.949890  \n",
       "1                           No  59920.576713  1.042352e+08  187.994096  \n",
       "2                           No  84936.827810  1.842421e+08  160.517096  \n",
       "3                           No  35105.903602  4.206711e+07   80.011735  \n",
       "4                           No  26870.456126  4.040222e+07  144.899050  "
      ]
     },
     "execution_count": 13,
     "metadata": {},
     "output_type": "execute_result"
    }
   ],
   "source": [
    "# Look at the top of the dataframe\n",
    "wf_df.head()"
   ]
  },
  {
   "cell_type": "code",
   "execution_count": 14,
   "id": "7ec0a32b",
   "metadata": {},
   "outputs": [
    {
     "data": {
      "text/plain": [
       "(84319, 12)"
      ]
     },
     "execution_count": 14,
     "metadata": {},
     "output_type": "execute_result"
    }
   ],
   "source": [
    "# Look at the dataframe's shape\n",
    "wf_df.shape"
   ]
  },
  {
   "cell_type": "markdown",
   "id": "11588388",
   "metadata": {},
   "source": [
    "Our dataframe looks as follows (above) after dropping the columns. The number of columns now came down to 12 from 13."
   ]
  },
  {
   "cell_type": "markdown",
   "id": "72b3e301",
   "metadata": {},
   "source": [
    "### Step 5: Analyzing the Column 'Overlap_Within_1_or_2_Flag'"
   ]
  },
  {
   "cell_type": "markdown",
   "id": "d2ae1201",
   "metadata": {},
   "source": [
    "In the wildfires dataset, fire polygons with near 100% overlap in consecutive years could be the same fire in different datasets with a year value that is correct in one and incorrect in another. This can occur particularly with older fires. There is no way to identify the actual year or which one is correct, if one is in fact incorrect. \n",
    "\n",
    "Therefore, 'Overlap_Within_1_or_2_Flag' column is present to flag areas that burned with >10% overlap of the current fire within 1 or 2 years of the current burn. Each fire that meets this criteria is included in this attribute including the percentage and acres of overlap, the year the overlapping fire occurred, and the overlapping fire's Assigned_USGS_ID.\n",
    "\n",
    "While the overlap flag may mor may not be correct, it is assumed that another row pertaining to the same fire exists for those fires that are flagged. Overlapping fires are thus removed since there is an other fire already existing in the database with more than 10% overlap."
   ]
  },
  {
   "cell_type": "code",
   "execution_count": 15,
   "id": "18533b73",
   "metadata": {},
   "outputs": [],
   "source": [
    "# Filter the dataframe to those rows that have the 'Overlap_Within_1_or_2_Flag' as None\n",
    "wf_df = wf_df[wf_df['Overlap_Within_1_or_2_Flag'].isna()==True]"
   ]
  },
  {
   "cell_type": "code",
   "execution_count": 16,
   "id": "920fb650",
   "metadata": {},
   "outputs": [],
   "source": [
    "# Now that the rows are filtered, drop the column\n",
    "wf_df = wf_df.drop(['Overlap_Within_1_or_2_Flag'], axis=1)"
   ]
  },
  {
   "cell_type": "code",
   "execution_count": 17,
   "id": "4846e1a7",
   "metadata": {},
   "outputs": [
    {
     "data": {
      "text/html": [
       "<div>\n",
       "<style scoped>\n",
       "    .dataframe tbody tr th:only-of-type {\n",
       "        vertical-align: middle;\n",
       "    }\n",
       "\n",
       "    .dataframe tbody tr th {\n",
       "        vertical-align: top;\n",
       "    }\n",
       "\n",
       "    .dataframe thead th {\n",
       "        text-align: right;\n",
       "    }\n",
       "</style>\n",
       "<table border=\"1\" class=\"dataframe\">\n",
       "  <thead>\n",
       "    <tr style=\"text-align: right;\">\n",
       "      <th></th>\n",
       "      <th>USGS_Assigned_ID</th>\n",
       "      <th>Assigned_Fire_Type</th>\n",
       "      <th>Fire_Year</th>\n",
       "      <th>GIS_Acres</th>\n",
       "      <th>Listed_Fire_Names</th>\n",
       "      <th>Circleness_Scale</th>\n",
       "      <th>Circle_Flag</th>\n",
       "      <th>Exclude_From_Summary_Rasters</th>\n",
       "      <th>Shape_Length</th>\n",
       "      <th>Shape_Area</th>\n",
       "      <th>Distance</th>\n",
       "    </tr>\n",
       "  </thead>\n",
       "  <tbody>\n",
       "    <tr>\n",
       "      <th>0</th>\n",
       "      <td>14299</td>\n",
       "      <td>Wildfire</td>\n",
       "      <td>1963</td>\n",
       "      <td>40992.458271</td>\n",
       "      <td>RATTLESNAKE (4)</td>\n",
       "      <td>0.385355</td>\n",
       "      <td>NaN</td>\n",
       "      <td>No</td>\n",
       "      <td>73550.428118</td>\n",
       "      <td>1.658906e+08</td>\n",
       "      <td>160.949890</td>\n",
       "    </tr>\n",
       "    <tr>\n",
       "      <th>1</th>\n",
       "      <td>14300</td>\n",
       "      <td>Wildfire</td>\n",
       "      <td>1963</td>\n",
       "      <td>25757.090203</td>\n",
       "      <td>McChord Butte (2), No Fire Name Provided (1), ...</td>\n",
       "      <td>0.364815</td>\n",
       "      <td>NaN</td>\n",
       "      <td>No</td>\n",
       "      <td>59920.576713</td>\n",
       "      <td>1.042352e+08</td>\n",
       "      <td>187.994096</td>\n",
       "    </tr>\n",
       "    <tr>\n",
       "      <th>2</th>\n",
       "      <td>14301</td>\n",
       "      <td>Wildfire</td>\n",
       "      <td>1963</td>\n",
       "      <td>45527.210986</td>\n",
       "      <td>WILLOW CREEK (16), EAST CRANE CREEK (4), Crane...</td>\n",
       "      <td>0.320927</td>\n",
       "      <td>NaN</td>\n",
       "      <td>No</td>\n",
       "      <td>84936.827810</td>\n",
       "      <td>1.842421e+08</td>\n",
       "      <td>160.517096</td>\n",
       "    </tr>\n",
       "    <tr>\n",
       "      <th>3</th>\n",
       "      <td>14302</td>\n",
       "      <td>Wildfire</td>\n",
       "      <td>1963</td>\n",
       "      <td>10395.010334</td>\n",
       "      <td>SOUTH CANYON CREEK (4), No Fire Name Provided (1)</td>\n",
       "      <td>0.428936</td>\n",
       "      <td>NaN</td>\n",
       "      <td>No</td>\n",
       "      <td>35105.903602</td>\n",
       "      <td>4.206711e+07</td>\n",
       "      <td>80.011735</td>\n",
       "    </tr>\n",
       "    <tr>\n",
       "      <th>4</th>\n",
       "      <td>14303</td>\n",
       "      <td>Wildfire</td>\n",
       "      <td>1963</td>\n",
       "      <td>9983.605738</td>\n",
       "      <td>WEBB CREEK (4)</td>\n",
       "      <td>0.703178</td>\n",
       "      <td>NaN</td>\n",
       "      <td>No</td>\n",
       "      <td>26870.456126</td>\n",
       "      <td>4.040222e+07</td>\n",
       "      <td>144.899050</td>\n",
       "    </tr>\n",
       "  </tbody>\n",
       "</table>\n",
       "</div>"
      ],
      "text/plain": [
       "   USGS_Assigned_ID Assigned_Fire_Type  Fire_Year     GIS_Acres  \\\n",
       "0             14299           Wildfire       1963  40992.458271   \n",
       "1             14300           Wildfire       1963  25757.090203   \n",
       "2             14301           Wildfire       1963  45527.210986   \n",
       "3             14302           Wildfire       1963  10395.010334   \n",
       "4             14303           Wildfire       1963   9983.605738   \n",
       "\n",
       "                                   Listed_Fire_Names  Circleness_Scale  \\\n",
       "0                                    RATTLESNAKE (4)          0.385355   \n",
       "1  McChord Butte (2), No Fire Name Provided (1), ...          0.364815   \n",
       "2  WILLOW CREEK (16), EAST CRANE CREEK (4), Crane...          0.320927   \n",
       "3  SOUTH CANYON CREEK (4), No Fire Name Provided (1)          0.428936   \n",
       "4                                     WEBB CREEK (4)          0.703178   \n",
       "\n",
       "   Circle_Flag Exclude_From_Summary_Rasters  Shape_Length    Shape_Area  \\\n",
       "0          NaN                           No  73550.428118  1.658906e+08   \n",
       "1          NaN                           No  59920.576713  1.042352e+08   \n",
       "2          NaN                           No  84936.827810  1.842421e+08   \n",
       "3          NaN                           No  35105.903602  4.206711e+07   \n",
       "4          NaN                           No  26870.456126  4.040222e+07   \n",
       "\n",
       "     Distance  \n",
       "0  160.949890  \n",
       "1  187.994096  \n",
       "2  160.517096  \n",
       "3   80.011735  \n",
       "4  144.899050  "
      ]
     },
     "execution_count": 17,
     "metadata": {},
     "output_type": "execute_result"
    }
   ],
   "source": [
    "# Look at the top of the dataframe\n",
    "wf_df.head()"
   ]
  },
  {
   "cell_type": "code",
   "execution_count": 18,
   "id": "a4144811",
   "metadata": {},
   "outputs": [
    {
     "data": {
      "text/plain": [
       "(75119, 11)"
      ]
     },
     "execution_count": 18,
     "metadata": {},
     "output_type": "execute_result"
    }
   ],
   "source": [
    "# Look at the dataframe's shape\n",
    "wf_df.shape"
   ]
  },
  {
   "cell_type": "markdown",
   "id": "ef4f4a35",
   "metadata": {},
   "source": [
    "Now our dataframe has 11 columns with the number of rows coming down to 75119 from 84319. The dataframe looks as follows (above) after making the above changes."
   ]
  },
  {
   "cell_type": "markdown",
   "id": "dfb4f632",
   "metadata": {},
   "source": [
    "### Step 6: Dropping Rows that are Near Perfect Circles and have High Acreage"
   ]
  },
  {
   "cell_type": "markdown",
   "id": "c19c0be1",
   "metadata": {},
   "source": [
    "Some of the fires in the wildfires dataset appear as near perfect circles. This could be from lightning strikes being counted as small fires or other small fires having a point buffered to the acreage of the fire size because no true polygon was created. A circle-ness index is thus calculated by using the following equation in Field Calculator,\n",
    "\n",
    "*4 x pi x (Shape_Area/(Shape_Length x Shape_Length))*\n",
    "\n",
    "As values of the circle-ness index approach 1, the shape becomes more circular. A 'Circle_Flag' column is thus present to flag any shapes with a value greater than or equal to 0.98.\n",
    "\n",
    "Circular fire polygons are highly unlikely to represent the actual area burned. When fire size is less than 1 acre, the risk of misassigning the burned area is minimal given the fire size. For any circular polygons greater than 1 acre, the risk of misassigning a burned area is too high and hence these are not included in the analysis. The column 'Exclude_From_Summary_Rasters' has a flag - 'Yes' for fires that are circular and greater than 1 acre, and 'No' for non-circular fires and circular fires lesser than 1 acre. Thus, the fires that have the flag as 'Yes', are removed"
   ]
  },
  {
   "cell_type": "code",
   "execution_count": 19,
   "id": "6ababc6a",
   "metadata": {},
   "outputs": [],
   "source": [
    "# Remove circular fires greater than 1 acre - indicated as 'Yes' in 'Exclude_From_Summary_Rasters'\n",
    "wf_df = wf_df[wf_df['Exclude_From_Summary_Rasters']=='No']"
   ]
  },
  {
   "cell_type": "markdown",
   "id": "72ae6ff6",
   "metadata": {},
   "source": [
    "Now we drop the columns 'Circle Flag' and 'Exclude_From_Summary_Rasters' since they are not relevant to our analysis anymore."
   ]
  },
  {
   "cell_type": "code",
   "execution_count": 20,
   "id": "ce22110b",
   "metadata": {},
   "outputs": [],
   "source": [
    "# Drop columns 'Circle_Flag' and 'Exclude_From_Summary_Rasters'\n",
    "wf_df = wf_df.drop(['Circle_Flag', 'Exclude_From_Summary_Rasters'], axis=1)"
   ]
  },
  {
   "cell_type": "code",
   "execution_count": 21,
   "id": "54f96359",
   "metadata": {},
   "outputs": [
    {
     "data": {
      "text/html": [
       "<div>\n",
       "<style scoped>\n",
       "    .dataframe tbody tr th:only-of-type {\n",
       "        vertical-align: middle;\n",
       "    }\n",
       "\n",
       "    .dataframe tbody tr th {\n",
       "        vertical-align: top;\n",
       "    }\n",
       "\n",
       "    .dataframe thead th {\n",
       "        text-align: right;\n",
       "    }\n",
       "</style>\n",
       "<table border=\"1\" class=\"dataframe\">\n",
       "  <thead>\n",
       "    <tr style=\"text-align: right;\">\n",
       "      <th></th>\n",
       "      <th>USGS_Assigned_ID</th>\n",
       "      <th>Assigned_Fire_Type</th>\n",
       "      <th>Fire_Year</th>\n",
       "      <th>GIS_Acres</th>\n",
       "      <th>Listed_Fire_Names</th>\n",
       "      <th>Circleness_Scale</th>\n",
       "      <th>Shape_Length</th>\n",
       "      <th>Shape_Area</th>\n",
       "      <th>Distance</th>\n",
       "    </tr>\n",
       "  </thead>\n",
       "  <tbody>\n",
       "    <tr>\n",
       "      <th>0</th>\n",
       "      <td>14299</td>\n",
       "      <td>Wildfire</td>\n",
       "      <td>1963</td>\n",
       "      <td>40992.458271</td>\n",
       "      <td>RATTLESNAKE (4)</td>\n",
       "      <td>0.385355</td>\n",
       "      <td>73550.428118</td>\n",
       "      <td>1.658906e+08</td>\n",
       "      <td>160.949890</td>\n",
       "    </tr>\n",
       "    <tr>\n",
       "      <th>1</th>\n",
       "      <td>14300</td>\n",
       "      <td>Wildfire</td>\n",
       "      <td>1963</td>\n",
       "      <td>25757.090203</td>\n",
       "      <td>McChord Butte (2), No Fire Name Provided (1), ...</td>\n",
       "      <td>0.364815</td>\n",
       "      <td>59920.576713</td>\n",
       "      <td>1.042352e+08</td>\n",
       "      <td>187.994096</td>\n",
       "    </tr>\n",
       "    <tr>\n",
       "      <th>2</th>\n",
       "      <td>14301</td>\n",
       "      <td>Wildfire</td>\n",
       "      <td>1963</td>\n",
       "      <td>45527.210986</td>\n",
       "      <td>WILLOW CREEK (16), EAST CRANE CREEK (4), Crane...</td>\n",
       "      <td>0.320927</td>\n",
       "      <td>84936.827810</td>\n",
       "      <td>1.842421e+08</td>\n",
       "      <td>160.517096</td>\n",
       "    </tr>\n",
       "    <tr>\n",
       "      <th>3</th>\n",
       "      <td>14302</td>\n",
       "      <td>Wildfire</td>\n",
       "      <td>1963</td>\n",
       "      <td>10395.010334</td>\n",
       "      <td>SOUTH CANYON CREEK (4), No Fire Name Provided (1)</td>\n",
       "      <td>0.428936</td>\n",
       "      <td>35105.903602</td>\n",
       "      <td>4.206711e+07</td>\n",
       "      <td>80.011735</td>\n",
       "    </tr>\n",
       "    <tr>\n",
       "      <th>4</th>\n",
       "      <td>14303</td>\n",
       "      <td>Wildfire</td>\n",
       "      <td>1963</td>\n",
       "      <td>9983.605738</td>\n",
       "      <td>WEBB CREEK (4)</td>\n",
       "      <td>0.703178</td>\n",
       "      <td>26870.456126</td>\n",
       "      <td>4.040222e+07</td>\n",
       "      <td>144.899050</td>\n",
       "    </tr>\n",
       "  </tbody>\n",
       "</table>\n",
       "</div>"
      ],
      "text/plain": [
       "   USGS_Assigned_ID Assigned_Fire_Type  Fire_Year     GIS_Acres  \\\n",
       "0             14299           Wildfire       1963  40992.458271   \n",
       "1             14300           Wildfire       1963  25757.090203   \n",
       "2             14301           Wildfire       1963  45527.210986   \n",
       "3             14302           Wildfire       1963  10395.010334   \n",
       "4             14303           Wildfire       1963   9983.605738   \n",
       "\n",
       "                                   Listed_Fire_Names  Circleness_Scale  \\\n",
       "0                                    RATTLESNAKE (4)          0.385355   \n",
       "1  McChord Butte (2), No Fire Name Provided (1), ...          0.364815   \n",
       "2  WILLOW CREEK (16), EAST CRANE CREEK (4), Crane...          0.320927   \n",
       "3  SOUTH CANYON CREEK (4), No Fire Name Provided (1)          0.428936   \n",
       "4                                     WEBB CREEK (4)          0.703178   \n",
       "\n",
       "   Shape_Length    Shape_Area    Distance  \n",
       "0  73550.428118  1.658906e+08  160.949890  \n",
       "1  59920.576713  1.042352e+08  187.994096  \n",
       "2  84936.827810  1.842421e+08  160.517096  \n",
       "3  35105.903602  4.206711e+07   80.011735  \n",
       "4  26870.456126  4.040222e+07  144.899050  "
      ]
     },
     "execution_count": 21,
     "metadata": {},
     "output_type": "execute_result"
    }
   ],
   "source": [
    "# Look at the top of the dataframe\n",
    "wf_df.head()"
   ]
  },
  {
   "cell_type": "code",
   "execution_count": 22,
   "id": "7d085e4a",
   "metadata": {},
   "outputs": [
    {
     "data": {
      "text/plain": [
       "(72608, 9)"
      ]
     },
     "execution_count": 22,
     "metadata": {},
     "output_type": "execute_result"
    }
   ],
   "source": [
    "# Look at the dataframe's shape\n",
    "wf_df.shape"
   ]
  },
  {
   "cell_type": "markdown",
   "id": "73114b45",
   "metadata": {},
   "source": [
    "Now our dataframe has 9 columns with the number of rows further coming down to 72608 from 75119. The dataframe looks as follows (above) after making the above changes."
   ]
  },
  {
   "cell_type": "markdown",
   "id": "df34cf47",
   "metadata": {},
   "source": [
    "### Step 7: Renaming the Fire Names and Exporting the Final Dataset"
   ]
  },
  {
   "cell_type": "markdown",
   "id": "146a7218",
   "metadata": {},
   "source": [
    "The 'Listed_Fire_Names' column includes each fire name listed in the fires from the merged dataset that intersect a particular fire polygon in space and year. The number of features that contributed the specific fire name are in parentheses after the fire name. We rename the fire name to the first instance occuring in the list of fire names. Since the list is ordered by the number of occurences, we will be basically assigning the fire name that was the most common in all the 40 data sources."
   ]
  },
  {
   "cell_type": "code",
   "execution_count": 23,
   "id": "9bde716a",
   "metadata": {},
   "outputs": [],
   "source": [
    "# Rename the fires to the first instance occurring in the 'Listed_Fire_Names' column\n",
    "wf_df['Listed_Fire_Names'] = wf_df['Listed_Fire_Names'].str.split(',').str[0]"
   ]
  },
  {
   "cell_type": "code",
   "execution_count": 24,
   "id": "a0f0a713",
   "metadata": {},
   "outputs": [
    {
     "data": {
      "text/html": [
       "<div>\n",
       "<style scoped>\n",
       "    .dataframe tbody tr th:only-of-type {\n",
       "        vertical-align: middle;\n",
       "    }\n",
       "\n",
       "    .dataframe tbody tr th {\n",
       "        vertical-align: top;\n",
       "    }\n",
       "\n",
       "    .dataframe thead th {\n",
       "        text-align: right;\n",
       "    }\n",
       "</style>\n",
       "<table border=\"1\" class=\"dataframe\">\n",
       "  <thead>\n",
       "    <tr style=\"text-align: right;\">\n",
       "      <th></th>\n",
       "      <th>USGS_Assigned_ID</th>\n",
       "      <th>Assigned_Fire_Type</th>\n",
       "      <th>Fire_Year</th>\n",
       "      <th>GIS_Acres</th>\n",
       "      <th>Listed_Fire_Names</th>\n",
       "      <th>Circleness_Scale</th>\n",
       "      <th>Shape_Length</th>\n",
       "      <th>Shape_Area</th>\n",
       "      <th>Distance</th>\n",
       "    </tr>\n",
       "  </thead>\n",
       "  <tbody>\n",
       "    <tr>\n",
       "      <th>0</th>\n",
       "      <td>14299</td>\n",
       "      <td>Wildfire</td>\n",
       "      <td>1963</td>\n",
       "      <td>40992.458271</td>\n",
       "      <td>RATTLESNAKE (4)</td>\n",
       "      <td>0.385355</td>\n",
       "      <td>73550.428118</td>\n",
       "      <td>1.658906e+08</td>\n",
       "      <td>160.949890</td>\n",
       "    </tr>\n",
       "    <tr>\n",
       "      <th>1</th>\n",
       "      <td>14300</td>\n",
       "      <td>Wildfire</td>\n",
       "      <td>1963</td>\n",
       "      <td>25757.090203</td>\n",
       "      <td>McChord Butte (2)</td>\n",
       "      <td>0.364815</td>\n",
       "      <td>59920.576713</td>\n",
       "      <td>1.042352e+08</td>\n",
       "      <td>187.994096</td>\n",
       "    </tr>\n",
       "    <tr>\n",
       "      <th>2</th>\n",
       "      <td>14301</td>\n",
       "      <td>Wildfire</td>\n",
       "      <td>1963</td>\n",
       "      <td>45527.210986</td>\n",
       "      <td>WILLOW CREEK (16)</td>\n",
       "      <td>0.320927</td>\n",
       "      <td>84936.827810</td>\n",
       "      <td>1.842421e+08</td>\n",
       "      <td>160.517096</td>\n",
       "    </tr>\n",
       "    <tr>\n",
       "      <th>3</th>\n",
       "      <td>14302</td>\n",
       "      <td>Wildfire</td>\n",
       "      <td>1963</td>\n",
       "      <td>10395.010334</td>\n",
       "      <td>SOUTH CANYON CREEK (4)</td>\n",
       "      <td>0.428936</td>\n",
       "      <td>35105.903602</td>\n",
       "      <td>4.206711e+07</td>\n",
       "      <td>80.011735</td>\n",
       "    </tr>\n",
       "    <tr>\n",
       "      <th>4</th>\n",
       "      <td>14303</td>\n",
       "      <td>Wildfire</td>\n",
       "      <td>1963</td>\n",
       "      <td>9983.605738</td>\n",
       "      <td>WEBB CREEK (4)</td>\n",
       "      <td>0.703178</td>\n",
       "      <td>26870.456126</td>\n",
       "      <td>4.040222e+07</td>\n",
       "      <td>144.899050</td>\n",
       "    </tr>\n",
       "  </tbody>\n",
       "</table>\n",
       "</div>"
      ],
      "text/plain": [
       "   USGS_Assigned_ID Assigned_Fire_Type  Fire_Year     GIS_Acres  \\\n",
       "0             14299           Wildfire       1963  40992.458271   \n",
       "1             14300           Wildfire       1963  25757.090203   \n",
       "2             14301           Wildfire       1963  45527.210986   \n",
       "3             14302           Wildfire       1963  10395.010334   \n",
       "4             14303           Wildfire       1963   9983.605738   \n",
       "\n",
       "        Listed_Fire_Names  Circleness_Scale  Shape_Length    Shape_Area  \\\n",
       "0         RATTLESNAKE (4)          0.385355  73550.428118  1.658906e+08   \n",
       "1       McChord Butte (2)          0.364815  59920.576713  1.042352e+08   \n",
       "2       WILLOW CREEK (16)          0.320927  84936.827810  1.842421e+08   \n",
       "3  SOUTH CANYON CREEK (4)          0.428936  35105.903602  4.206711e+07   \n",
       "4          WEBB CREEK (4)          0.703178  26870.456126  4.040222e+07   \n",
       "\n",
       "     Distance  \n",
       "0  160.949890  \n",
       "1  187.994096  \n",
       "2  160.517096  \n",
       "3   80.011735  \n",
       "4  144.899050  "
      ]
     },
     "execution_count": 24,
     "metadata": {},
     "output_type": "execute_result"
    }
   ],
   "source": [
    "# Look at the top of the dataframe\n",
    "wf_df.head()"
   ]
  },
  {
   "cell_type": "code",
   "execution_count": 25,
   "id": "05d76032",
   "metadata": {},
   "outputs": [
    {
     "data": {
      "text/plain": [
       "72608"
      ]
     },
     "execution_count": 25,
     "metadata": {},
     "output_type": "execute_result"
    }
   ],
   "source": [
    "# Look at the number of rows of the final preprocessed dataframe\n",
    "wf_df.shape[0]"
   ]
  },
  {
   "cell_type": "markdown",
   "id": "ee76fb66",
   "metadata": {},
   "source": [
    "Thus, our final processed wildfires data contains 72608 wildfire instances with 9 features. The features GIS_Acres, Circleness_Scale, Shape_Length, Shape_Area, and Distance were retained since they are numerical values that might be handy for creating the Smoke Estimate and its further modeling.\n",
    "\n",
    "This final dataset can now be exported to a CSV file."
   ]
  },
  {
   "cell_type": "code",
   "execution_count": 26,
   "id": "5bf66785",
   "metadata": {},
   "outputs": [],
   "source": [
    "# Export the final processed dataframe to a CSV file\n",
    "wf_df.to_csv('Wildfire_Data_Processed.csv', index=False)"
   ]
  }
 ],
 "metadata": {
  "kernelspec": {
   "display_name": "Python 3 (ipykernel)",
   "language": "python",
   "name": "python3"
  },
  "language_info": {
   "codemirror_mode": {
    "name": "ipython",
    "version": 3
   },
   "file_extension": ".py",
   "mimetype": "text/x-python",
   "name": "python",
   "nbconvert_exporter": "python",
   "pygments_lexer": "ipython3",
   "version": "3.11.5"
  }
 },
 "nbformat": 4,
 "nbformat_minor": 5
}
